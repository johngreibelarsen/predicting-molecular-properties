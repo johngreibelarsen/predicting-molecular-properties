{
 "cells": [
  {
   "cell_type": "markdown",
   "metadata": {},
   "source": [
    "### The Data\n",
    "This book will try to develop an algorithm to identify an atoms nearby functional groups, that is, in CH3-CH2-OH the H atoms in CH3 are part of a CH3-group, neigherst neighbor are CH2 followed by OH.\n",
    "\n",
    "Note: this book will only consider data from the following csv files: train, test and structures"
   ]
  },
  {
   "cell_type": "code",
   "execution_count": 18,
   "metadata": {},
   "outputs": [],
   "source": [
    "import pandas as pd\n",
    "\n",
    "input_folder = './input'\n",
    "\n",
    "train = pd.read_csv(f'{input_folder}/train.csv')\n",
    "structures = pd.read_csv(f'{input_folder}/structures.csv')"
   ]
  },
  {
   "cell_type": "code",
   "execution_count": 2,
   "metadata": {},
   "outputs": [
    {
     "data": {
      "text/plain": [
       "'Train shape: (4658147, 6)'"
      ]
     },
     "execution_count": 2,
     "metadata": {},
     "output_type": "execute_result"
    }
   ],
   "source": [
    "f'Train shape: {train.shape}'"
   ]
  },
  {
   "cell_type": "code",
   "execution_count": 3,
   "metadata": {},
   "outputs": [
    {
     "data": {
      "text/plain": [
       "'Structures shape: (2358657, 6)'"
      ]
     },
     "execution_count": 3,
     "metadata": {},
     "output_type": "execute_result"
    }
   ],
   "source": [
    "f'Structures shape: {structures.shape}'"
   ]
  },
  {
   "cell_type": "code",
   "execution_count": 4,
   "metadata": {},
   "outputs": [
    {
     "name": "stdout",
     "output_type": "stream",
     "text": [
      "There are 8 unique coupling types: ['1JHC' '2JHH' '1JHN' '2JHN' '2JHC' '3JHH' '3JHC' '3JHN']\n"
     ]
    }
   ],
   "source": [
    "print(f\"There are {train['type'].nunique()} unique coupling types: {train['type'].unique()}\")\n"
   ]
  },
  {
   "cell_type": "markdown",
   "metadata": {},
   "source": [
    "#### Merging data sources into one training data set and one test data set \n",
    "\n",
    "Code for joining data is from this kernel: https://www.kaggle.com/seriousran/just-speed-up-calculate-distance-from-benchmark"
   ]
  },
  {
   "cell_type": "code",
   "execution_count": 19,
   "metadata": {},
   "outputs": [],
   "source": [
    "# OK\n",
    "def map_atom_info(df, atom_idx):\n",
    "    df = pd.merge(df, structures, how = 'left',\n",
    "                  left_on  = ['molecule_name', f'atom_index_{atom_idx}'],\n",
    "                  right_on = ['molecule_name',  'atom_index'])\n",
    "    \n",
    "    df = df.rename(columns={'atom': f'atom_{atom_idx}',\n",
    "                            'x': f'x_{atom_idx}',\n",
    "                            'y': f'y_{atom_idx}',\n",
    "                            'z': f'z_{atom_idx}'})\n",
    "    return df"
   ]
  },
  {
   "cell_type": "code",
   "execution_count": 20,
   "metadata": {},
   "outputs": [],
   "source": [
    "# OK\n",
    "train = map_atom_info(train, 0)\n",
    "train = map_atom_info(train, 1)"
   ]
  },
  {
   "cell_type": "code",
   "execution_count": 61,
   "metadata": {},
   "outputs": [
    {
     "data": {
      "text/html": [
       "<div>\n",
       "<style scoped>\n",
       "    .dataframe tbody tr th:only-of-type {\n",
       "        vertical-align: middle;\n",
       "    }\n",
       "\n",
       "    .dataframe tbody tr th {\n",
       "        vertical-align: top;\n",
       "    }\n",
       "\n",
       "    .dataframe thead th {\n",
       "        text-align: right;\n",
       "    }\n",
       "</style>\n",
       "<table border=\"1\" class=\"dataframe\">\n",
       "  <thead>\n",
       "    <tr style=\"text-align: right;\">\n",
       "      <th></th>\n",
       "      <th>id</th>\n",
       "      <th>molecule_name</th>\n",
       "      <th>atom_index_0</th>\n",
       "      <th>atom_index_1</th>\n",
       "      <th>type</th>\n",
       "      <th>atom_index_x</th>\n",
       "      <th>atom_0</th>\n",
       "      <th>atom_index_y</th>\n",
       "      <th>atom_1</th>\n",
       "    </tr>\n",
       "  </thead>\n",
       "  <tbody>\n",
       "    <tr>\n",
       "      <th>4188</th>\n",
       "      <td>4193.0</td>\n",
       "      <td>dsgdb9nsd_000230</td>\n",
       "      <td>8.0</td>\n",
       "      <td>0.0</td>\n",
       "      <td>1JHC</td>\n",
       "      <td>8.0</td>\n",
       "      <td>H</td>\n",
       "      <td>0</td>\n",
       "      <td>C</td>\n",
       "    </tr>\n",
       "    <tr>\n",
       "      <th>4186</th>\n",
       "      <td>4186.0</td>\n",
       "      <td>dsgdb9nsd_000230</td>\n",
       "      <td>6.0</td>\n",
       "      <td>0.0</td>\n",
       "      <td>1JHC</td>\n",
       "      <td>6.0</td>\n",
       "      <td>H</td>\n",
       "      <td>0</td>\n",
       "      <td>C</td>\n",
       "    </tr>\n",
       "    <tr>\n",
       "      <th>4187</th>\n",
       "      <td>4190.0</td>\n",
       "      <td>dsgdb9nsd_000230</td>\n",
       "      <td>7.0</td>\n",
       "      <td>0.0</td>\n",
       "      <td>1JHC</td>\n",
       "      <td>7.0</td>\n",
       "      <td>H</td>\n",
       "      <td>0</td>\n",
       "      <td>C</td>\n",
       "    </tr>\n",
       "    <tr>\n",
       "      <th>4204</th>\n",
       "      <td>4196.0</td>\n",
       "      <td>dsgdb9nsd_000230</td>\n",
       "      <td>9.0</td>\n",
       "      <td>3.0</td>\n",
       "      <td>1JHC</td>\n",
       "      <td>9.0</td>\n",
       "      <td>H</td>\n",
       "      <td>3</td>\n",
       "      <td>C</td>\n",
       "    </tr>\n",
       "    <tr>\n",
       "      <th>4228</th>\n",
       "      <td>4228.0</td>\n",
       "      <td>dsgdb9nsd_000230</td>\n",
       "      <td>15.0</td>\n",
       "      <td>5.0</td>\n",
       "      <td>1JHC</td>\n",
       "      <td>15.0</td>\n",
       "      <td>H</td>\n",
       "      <td>5</td>\n",
       "      <td>C</td>\n",
       "    </tr>\n",
       "    <tr>\n",
       "      <th>4229</th>\n",
       "      <td>4234.0</td>\n",
       "      <td>dsgdb9nsd_000230</td>\n",
       "      <td>16.0</td>\n",
       "      <td>5.0</td>\n",
       "      <td>1JHC</td>\n",
       "      <td>16.0</td>\n",
       "      <td>H</td>\n",
       "      <td>5</td>\n",
       "      <td>C</td>\n",
       "    </tr>\n",
       "    <tr>\n",
       "      <th>4230</th>\n",
       "      <td>4239.0</td>\n",
       "      <td>dsgdb9nsd_000230</td>\n",
       "      <td>17.0</td>\n",
       "      <td>5.0</td>\n",
       "      <td>1JHC</td>\n",
       "      <td>17.0</td>\n",
       "      <td>H</td>\n",
       "      <td>5</td>\n",
       "      <td>C</td>\n",
       "    </tr>\n",
       "    <tr>\n",
       "      <th>4659318</th>\n",
       "      <td>NaN</td>\n",
       "      <td>dsgdb9nsd_000230</td>\n",
       "      <td>NaN</td>\n",
       "      <td>NaN</td>\n",
       "      <td>NaN</td>\n",
       "      <td>NaN</td>\n",
       "      <td>NaN</td>\n",
       "      <td>1</td>\n",
       "      <td>O</td>\n",
       "    </tr>\n",
       "    <tr>\n",
       "      <th>4659319</th>\n",
       "      <td>NaN</td>\n",
       "      <td>dsgdb9nsd_000230</td>\n",
       "      <td>NaN</td>\n",
       "      <td>NaN</td>\n",
       "      <td>NaN</td>\n",
       "      <td>NaN</td>\n",
       "      <td>NaN</td>\n",
       "      <td>6</td>\n",
       "      <td>H</td>\n",
       "    </tr>\n",
       "    <tr>\n",
       "      <th>4659320</th>\n",
       "      <td>NaN</td>\n",
       "      <td>dsgdb9nsd_000230</td>\n",
       "      <td>NaN</td>\n",
       "      <td>NaN</td>\n",
       "      <td>NaN</td>\n",
       "      <td>NaN</td>\n",
       "      <td>NaN</td>\n",
       "      <td>9</td>\n",
       "      <td>H</td>\n",
       "    </tr>\n",
       "    <tr>\n",
       "      <th>4659321</th>\n",
       "      <td>NaN</td>\n",
       "      <td>dsgdb9nsd_000230</td>\n",
       "      <td>NaN</td>\n",
       "      <td>NaN</td>\n",
       "      <td>NaN</td>\n",
       "      <td>NaN</td>\n",
       "      <td>NaN</td>\n",
       "      <td>12</td>\n",
       "      <td>H</td>\n",
       "    </tr>\n",
       "    <tr>\n",
       "      <th>4659322</th>\n",
       "      <td>NaN</td>\n",
       "      <td>dsgdb9nsd_000230</td>\n",
       "      <td>NaN</td>\n",
       "      <td>NaN</td>\n",
       "      <td>NaN</td>\n",
       "      <td>NaN</td>\n",
       "      <td>NaN</td>\n",
       "      <td>15</td>\n",
       "      <td>H</td>\n",
       "    </tr>\n",
       "    <tr>\n",
       "      <th>4206</th>\n",
       "      <td>4207.0</td>\n",
       "      <td>dsgdb9nsd_000230</td>\n",
       "      <td>11.0</td>\n",
       "      <td>3.0</td>\n",
       "      <td>1JHC</td>\n",
       "      <td>11.0</td>\n",
       "      <td>H</td>\n",
       "      <td>3</td>\n",
       "      <td>C</td>\n",
       "    </tr>\n",
       "    <tr>\n",
       "      <th>4205</th>\n",
       "      <td>4202.0</td>\n",
       "      <td>dsgdb9nsd_000230</td>\n",
       "      <td>10.0</td>\n",
       "      <td>3.0</td>\n",
       "      <td>1JHC</td>\n",
       "      <td>10.0</td>\n",
       "      <td>H</td>\n",
       "      <td>3</td>\n",
       "      <td>C</td>\n",
       "    </tr>\n",
       "    <tr>\n",
       "      <th>4216</th>\n",
       "      <td>4212.0</td>\n",
       "      <td>dsgdb9nsd_000230</td>\n",
       "      <td>12.0</td>\n",
       "      <td>4.0</td>\n",
       "      <td>1JHC</td>\n",
       "      <td>12.0</td>\n",
       "      <td>H</td>\n",
       "      <td>4</td>\n",
       "      <td>C</td>\n",
       "    </tr>\n",
       "    <tr>\n",
       "      <th>4217</th>\n",
       "      <td>4218.0</td>\n",
       "      <td>dsgdb9nsd_000230</td>\n",
       "      <td>13.0</td>\n",
       "      <td>4.0</td>\n",
       "      <td>1JHC</td>\n",
       "      <td>13.0</td>\n",
       "      <td>H</td>\n",
       "      <td>4</td>\n",
       "      <td>C</td>\n",
       "    </tr>\n",
       "    <tr>\n",
       "      <th>4218</th>\n",
       "      <td>4223.0</td>\n",
       "      <td>dsgdb9nsd_000230</td>\n",
       "      <td>14.0</td>\n",
       "      <td>4.0</td>\n",
       "      <td>1JHC</td>\n",
       "      <td>14.0</td>\n",
       "      <td>H</td>\n",
       "      <td>4</td>\n",
       "      <td>C</td>\n",
       "    </tr>\n",
       "  </tbody>\n",
       "</table>\n",
       "</div>"
      ],
      "text/plain": [
       "             id     molecule_name  atom_index_0  atom_index_1  type  \\\n",
       "4188     4193.0  dsgdb9nsd_000230           8.0           0.0  1JHC   \n",
       "4186     4186.0  dsgdb9nsd_000230           6.0           0.0  1JHC   \n",
       "4187     4190.0  dsgdb9nsd_000230           7.0           0.0  1JHC   \n",
       "4204     4196.0  dsgdb9nsd_000230           9.0           3.0  1JHC   \n",
       "4228     4228.0  dsgdb9nsd_000230          15.0           5.0  1JHC   \n",
       "4229     4234.0  dsgdb9nsd_000230          16.0           5.0  1JHC   \n",
       "4230     4239.0  dsgdb9nsd_000230          17.0           5.0  1JHC   \n",
       "4659318     NaN  dsgdb9nsd_000230           NaN           NaN   NaN   \n",
       "4659319     NaN  dsgdb9nsd_000230           NaN           NaN   NaN   \n",
       "4659320     NaN  dsgdb9nsd_000230           NaN           NaN   NaN   \n",
       "4659321     NaN  dsgdb9nsd_000230           NaN           NaN   NaN   \n",
       "4659322     NaN  dsgdb9nsd_000230           NaN           NaN   NaN   \n",
       "4206     4207.0  dsgdb9nsd_000230          11.0           3.0  1JHC   \n",
       "4205     4202.0  dsgdb9nsd_000230          10.0           3.0  1JHC   \n",
       "4216     4212.0  dsgdb9nsd_000230          12.0           4.0  1JHC   \n",
       "4217     4218.0  dsgdb9nsd_000230          13.0           4.0  1JHC   \n",
       "4218     4223.0  dsgdb9nsd_000230          14.0           4.0  1JHC   \n",
       "\n",
       "         atom_index_x atom_0  atom_index_y atom_1  \n",
       "4188              8.0      H             0      C  \n",
       "4186              6.0      H             0      C  \n",
       "4187              7.0      H             0      C  \n",
       "4204              9.0      H             3      C  \n",
       "4228             15.0      H             5      C  \n",
       "4229             16.0      H             5      C  \n",
       "4230             17.0      H             5      C  \n",
       "4659318           NaN    NaN             1      O  \n",
       "4659319           NaN    NaN             6      H  \n",
       "4659320           NaN    NaN             9      H  \n",
       "4659321           NaN    NaN            12      H  \n",
       "4659322           NaN    NaN            15      H  \n",
       "4206             11.0      H             3      C  \n",
       "4205             10.0      H             3      C  \n",
       "4216             12.0      H             4      C  \n",
       "4217             13.0      H             4      C  \n",
       "4218             14.0      H             4      C  "
      ]
     },
     "execution_count": 61,
     "metadata": {},
     "output_type": "execute_result"
    }
   ],
   "source": [
    "train_new.loc[train_new['molecule_name'] == 'dsgdb9nsd_000230']"
   ]
  },
  {
   "cell_type": "markdown",
   "metadata": {},
   "source": [
    "### Molecules as SMILES\n"
   ]
  },
  {
   "cell_type": "code",
   "execution_count": null,
   "metadata": {},
   "outputs": [],
   "source": []
  },
  {
   "cell_type": "markdown",
   "metadata": {},
   "source": [
    "### Functional Groups\n",
    "#### List of Functional Groups we will classify by"
   ]
  },
  {
   "cell_type": "code",
   "execution_count": null,
   "metadata": {},
   "outputs": [],
   "source": []
  }
 ],
 "metadata": {
  "kernelspec": {
   "display_name": "Python 3",
   "language": "python",
   "name": "python3"
  },
  "language_info": {
   "codemirror_mode": {
    "name": "ipython",
    "version": 3
   },
   "file_extension": ".py",
   "mimetype": "text/x-python",
   "name": "python",
   "nbconvert_exporter": "python",
   "pygments_lexer": "ipython3",
   "version": "3.7.3"
  }
 },
 "nbformat": 4,
 "nbformat_minor": 2
}
